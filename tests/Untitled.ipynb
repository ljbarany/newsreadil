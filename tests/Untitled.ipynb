{
 "cells": [
  {
   "cell_type": "code",
   "execution_count": 3,
   "id": "617abe73",
   "metadata": {},
   "outputs": [
    {
     "name": "stderr",
     "output_type": "stream",
     "text": [
      "[nltk_data] Downloading package punkt to /Users/lestary/nltk_data...\n",
      "[nltk_data]   Package punkt is already up-to-date!\n"
     ]
    },
    {
     "data": {
      "text/plain": [
       "True"
      ]
     },
     "execution_count": 3,
     "metadata": {},
     "output_type": "execute_result"
    }
   ],
   "source": [
    "#Importing modules\n",
    "import requests\n",
    "import pandas as pd\n",
    "import os\n",
    "from dotenv import load_dotenv\n",
    "import json\n",
    "from json import dumps, loads\n",
    "from pandas import json_normalize\n",
    "import textstat\n",
    "from nltk.tokenize import sent_tokenize, word_tokenize\n",
    "from textstat.textstat import textstatistics\n",
    "from bs4 import BeautifulSoup\n",
    "import re\n",
    "import nltk\n",
    "nltk.download('punkt')"
   ]
  },
  {
   "cell_type": "code",
   "execution_count": 12,
   "id": "35348270",
   "metadata": {},
   "outputs": [],
   "source": [
    "#Setting API key into variable\n",
    "load_dotenv()\n",
    "key = os.getenv('API_KEY')\n",
    "\n",
    "#Function to get readibility category of news based on topic\n",
    "\n",
    "def linkcategory(topic, key):\n",
    "    \"\"\"\n",
    "        This function obtain table for headline article of specific topic and calculate how easy-to-read each article for users.\n",
    "        Readibility score calculation is inspired by `Flesch Kincaid Grade readibility score <https://readable.com/readability/flesch-reading-ease flesch-kincaid-grade-level/>`_\n",
    "        \n",
    "        Returns\n",
    "        -------\n",
    "        pandas.core.frame.DataFrame\n",
    "          A dataframe containing complete information of title, link to the article, and readibility category of each writing.    \n",
    "        \n",
    "        Examples\n",
    "        --------\n",
    "        >>> from newsreadil import linkcategory\n",
    "        >>> linkcategory(\"world cup\", key)\n",
    "        \n",
    "        \ttitle\turl\tread_category\n",
    "        0\tWorld Cup 2022: Sign up to Jürgen Klinsmann's ...\thttps://www.bbc.co.uk/sport/football/63607873\tBasic\n",
    "        1\tA Destabilizing Hack-and-Leak Operation Hits M...\thttps://www.wired.com/story/moldova-leaks-goog...\tAdvanced\n",
    "        2\tGoogle’s Year in Search 2022 was dominated by ...\thttps://www.engadget.com/google-year-in-search...\tAdvanced\n",
    "        3\tWorld Cup 2022: Welsh anthem praised around th...\thttps://www.bbc.co.uk/news/uk-wales-63729674\tSkilled\n",
    "        4\tWorld Cup: Shuttle flights cast doubts on carb...\thttps://www.bbc.co.uk/news/world-63796634\tSkilled \n",
    "        \"\"\"\n",
    "    \n",
    "    url = f'https://newsapi.org/v2/everything?q={topic}&apiKey={key}'\n",
    "    r = requests.get(url)\n",
    "    status = r.status_code\n",
    "    if status==404:\n",
    "            raise Exception(\"404 : error (failed to make request)\")\n",
    "    if status==500:\n",
    "            raise Exception(\"500 : successfully made request but had internal error\")\n",
    "    if status == 200:\n",
    "        data = r.json()\n",
    "        df = pd.json_normalize(data, \"articles\")\n",
    "        title = df['title']\n",
    "        content = df['content'].to_string()\n",
    "        df['sentences'] = df.apply(lambda row: nltk.sent_tokenize(row['content']), axis=1)\n",
    "        df['sentences_count'] = df['content'].str.count('\\\\..').clip(lower=1)\n",
    "        df['words'] = df.apply(lambda row: nltk.word_tokenize(row['content']), axis=1)\n",
    "        df['words_count'] = df.apply(lambda row: len(row['words']), axis=1)\n",
    "        df['average_sentence_length'] = df['words_count'] / df['sentences_count']\n",
    "        df['syllable'] = textstatistics().syllable_count(content)\n",
    "        df['ASPW'] = df['syllable']/df['words_count']\n",
    "        df['FRE'] = 0.39 * df['average_sentence_length'] + 11.8 * df['ASPW'] - 15.59\n",
    "        df['readibilityscore'] = round(df['FRE'],2)\n",
    "        df['read_category'] = pd.cut(df['readibilityscore'], bins=[1, 270, 309, 339, 400],\n",
    "                                         labels=['Basic', 'Average', 'Skilled', 'Advanced'])\n",
    "        return df[['title', 'url', 'read_category']]\n",
    "    else:\n",
    "        error"
   ]
  },
  {
   "cell_type": "code",
   "execution_count": 15,
   "id": "bfffe674",
   "metadata": {},
   "outputs": [
    {
     "ename": "ModuleNotFoundError",
     "evalue": "No module named 'newsreadil'",
     "output_type": "error",
     "traceback": [
      "\u001b[0;31m---------------------------------------------------------------------------\u001b[0m",
      "\u001b[0;31mModuleNotFoundError\u001b[0m                       Traceback (most recent call last)",
      "\u001b[0;32m/var/folders/3t/8w9_bv3x3kv983zzvd0rmyfm0000gn/T/ipykernel_1597/2293665859.py\u001b[0m in \u001b[0;36m<module>\u001b[0;34m\u001b[0m\n\u001b[0;32m----> 1\u001b[0;31m \u001b[0;32mfrom\u001b[0m \u001b[0mnewsreadil\u001b[0m \u001b[0;32mimport\u001b[0m \u001b[0mnewsreadil\u001b[0m\u001b[0;34m\u001b[0m\u001b[0;34m\u001b[0m\u001b[0m\n\u001b[0m\u001b[1;32m      2\u001b[0m \u001b[0;32mdef\u001b[0m \u001b[0mtest_linkcategory\u001b[0m\u001b[0;34m(\u001b[0m\u001b[0;34m)\u001b[0m\u001b[0;34m:\u001b[0m\u001b[0;34m\u001b[0m\u001b[0;34m\u001b[0m\u001b[0m\n\u001b[1;32m      3\u001b[0m     \u001b[0mact\u001b[0m \u001b[0;34m=\u001b[0m \u001b[0mnewsreadil\u001b[0m\u001b[0;34m.\u001b[0m\u001b[0mlinkcategory\u001b[0m\u001b[0;34m(\u001b[0m\u001b[0;34m)\u001b[0m\u001b[0;34m\u001b[0m\u001b[0;34m\u001b[0m\u001b[0m\n\u001b[1;32m      4\u001b[0m     \u001b[0mexpected\u001b[0m \u001b[0;34m=\u001b[0m \u001b[0mpd\u001b[0m\u001b[0;34m.\u001b[0m\u001b[0mread_pickle\u001b[0m\u001b[0;34m(\u001b[0m\u001b[0mdf\u001b[0m\u001b[0;34m[\u001b[0m\u001b[0;34m[\u001b[0m\u001b[0;34m'title'\u001b[0m\u001b[0;34m,\u001b[0m \u001b[0;34m'url'\u001b[0m\u001b[0;34m,\u001b[0m \u001b[0;34m'read_category'\u001b[0m\u001b[0;34m]\u001b[0m\u001b[0;34m]\u001b[0m\u001b[0;34m)\u001b[0m\u001b[0;34m\u001b[0m\u001b[0;34m\u001b[0m\u001b[0m\n\u001b[1;32m      5\u001b[0m     \u001b[0;32massert\u001b[0m \u001b[0mexpected\u001b[0m\u001b[0;34m.\u001b[0m\u001b[0mequals\u001b[0m\u001b[0;34m(\u001b[0m\u001b[0mact\u001b[0m\u001b[0;34m)\u001b[0m\u001b[0;34m,\u001b[0m \u001b[0;34m\"no result found\"\u001b[0m\u001b[0;34m\u001b[0m\u001b[0;34m\u001b[0m\u001b[0m\n",
      "\u001b[0;31mModuleNotFoundError\u001b[0m: No module named 'newsreadil'"
     ]
    }
   ],
   "source": [
    "from newsreadil import newsreadil\n",
    "def test_linkcategory():\n",
    "    act = newsreadil.linkcategory()\n",
    "    expected = pd.read_pickle(df[['title', 'url', 'read_category']])\n",
    "    assert expected.equals(act), \"no result found\""
   ]
  },
  {
   "cell_type": "code",
   "execution_count": 11,
   "id": "66c89799",
   "metadata": {},
   "outputs": [],
   "source": [
    "def newarticle(topic, key):\n",
    "        \"\"\"\n",
    "        This function obtain table for headline article about specific topic and return the most recent news\n",
    "        \n",
    "        Returns\n",
    "        -------\n",
    "          List of the most recent news globally with complete information of title, link to the article, and source    \n",
    "        \n",
    "        Examples\n",
    "        --------\n",
    "        >>> from newsreadil import newarticle\n",
    "        >>> newarticle(\"indonesia\", key)\n",
    "        \n",
    "        'Avatar' star Sam Worthington reveals alcohol addiction: 'Drinking helped me get through the day' - Yahoo Entertainment  https://www.yahoo.com/entertainment/avatar-sam-worthington-alcohol-addiction-sober-fame-205541200.html                                           Yahoo Entertainment         2022-12-15 20:55:41+00:00\n",
    "        49ers vs. Seahawks odds, line, spread Thursday Night Football picks, NFL predictions from dialed-in model - CBS Sports   https://www.cbssports.com/nfl/news/49ers-vs-seahawks-odds-line-spread-thursday-night-football-picks-nfl-predictions-from-dialed-in-model/        CBS Sports                  2022-12-15 23:51:28+00:00\n",
    "        Congress votes to remove bust of chief justice who authored Dred Scott decision - Fox News                               https://www.foxnews.com/politics/congress-votes-remove-bust-chief-justice-authored-dred-scott-decision                                           Fox News                    2022-12-15 20:16:19+00:00 \n",
    "        \"\"\"\n",
    "        url = f'https://newsapi.org/v2/everything?q={topic}&apiKey={key}'\n",
    "        r = requests.get(url)\n",
    "        data = r.json()\n",
    "        df = pd.json_normalize(data, \"articles\")\n",
    "        df['release'] = pd.to_datetime(df['publishedAt'])\n",
    "        release =  df['release']\n",
    "        return df.groupby(['title','url', 'source.name']).release.max()"
   ]
  },
  {
   "cell_type": "code",
   "execution_count": null,
   "id": "4794c04b",
   "metadata": {},
   "outputs": [],
   "source": [
    "def test_newarticle(topic, key):\n",
    "    act\n",
    "    "
   ]
  }
 ],
 "metadata": {
  "kernelspec": {
   "display_name": "Python 3 (ipykernel)",
   "language": "python",
   "name": "python3"
  },
  "language_info": {
   "codemirror_mode": {
    "name": "ipython",
    "version": 3
   },
   "file_extension": ".py",
   "mimetype": "text/x-python",
   "name": "python",
   "nbconvert_exporter": "python",
   "pygments_lexer": "ipython3",
   "version": "3.9.7"
  }
 },
 "nbformat": 4,
 "nbformat_minor": 5
}
